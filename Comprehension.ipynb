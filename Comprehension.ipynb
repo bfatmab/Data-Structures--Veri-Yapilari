{
 "cells": [
  {
   "cell_type": "markdown",
   "id": "c50a7c93-542a-4887-a55b-e9b8aa302adc",
   "metadata": {},
   "source": [
    "#COMPREHENSION\n",
    "What is it: It is used to reduce multiple lines and code statements into a single line of code(en)\n",
    "Nedir:Birden fazla satır ve kod satırlarının  tek kod satırlarına indirgemek için kullanılır.(tr)\n",
    "\n"
   ]
  },
  {
   "cell_type": "markdown",
   "id": "32f2d655-b144-4da7-9f7a-9e1e177a20a6",
   "metadata": {},
   "source": [
    "LIST COMPREHENSIONS"
   ]
  },
  {
   "cell_type": "code",
   "execution_count": 2,
   "id": "33e4e8c2-72a1-44af-b4d9-b226e2a86827",
   "metadata": {},
   "outputs": [
    {
     "name": "stdout",
     "output_type": "stream",
     "text": [
      "1200.0\n",
      "2400.0\n",
      "3600.0\n",
      "4800.0\n"
     ]
    }
   ],
   "source": [
    "# eski yöntem hatırlatma(tr)\n",
    "salaries = [1000, 2000, 3000, 4000]\n",
    "def new_salary(x):\n",
    "    return  x*20/100+x\n",
    "\n",
    "for item in salaries:\n",
    "    print(new_salary(item))\n"
   ]
  },
  {
   "cell_type": "code",
   "execution_count": 3,
   "id": "4275875b-48a7-4b88-b5af-3cd418caec7e",
   "metadata": {},
   "outputs": [
    {
     "data": {
      "text/plain": [
       "[2000, 4000, 6000, 8000]"
      ]
     },
     "execution_count": 3,
     "metadata": {},
     "output_type": "execute_result"
    }
   ],
   "source": [
    "# list comprehenison ile önce bir köşeli parantez\n",
    "#salaries içerisndeki değerleri for ile dönüp her değeri 2 ile çarp\n",
    "#yazarken soldan sağa doğru ilerler\n",
    "\n",
    "[item *2 for item in salaries]"
   ]
  },
  {
   "cell_type": "code",
   "execution_count": 4,
   "id": "63eaf183-1454-4f8b-b625-8d44fa0ce0b9",
   "metadata": {},
   "outputs": [
    {
     "data": {
      "text/plain": [
       "[2000, 4000]"
      ]
     },
     "execution_count": 4,
     "metadata": {},
     "output_type": "execute_result"
    }
   ],
   "source": [
    "#maaşı 3000.2den az olanları iki ile çarpalım.\n",
    "#Eğer sadece if kullancaksa if forun sağında kalır\n",
    "[item*2 for item in salaries if item<3000]"
   ]
  },
  {
   "cell_type": "code",
   "execution_count": 5,
   "id": "aef1c6cb-7805-416f-b2be-c061b3dfb8f1",
   "metadata": {},
   "outputs": [
    {
     "data": {
      "text/plain": [
       "[2000, 4000, 0, 0]"
      ]
     },
     "execution_count": 5,
     "metadata": {},
     "output_type": "execute_result"
    }
   ],
   "source": [
    "#Eğer if-else kullanılacaksa forun soluna yazılırlar\n",
    "[item *2 if item < 3000 else item*0 for item in salaries]"
   ]
  },
  {
   "cell_type": "code",
   "execution_count": 7,
   "id": "21eb4bcc-e93e-4c20-a4f2-e3b087f8fbc2",
   "metadata": {},
   "outputs": [
    {
     "data": {
      "text/plain": [
       "['john', 'MARK', 'venessa', 'MARIAM']"
      ]
     },
     "execution_count": 7,
     "metadata": {},
     "output_type": "execute_result"
    }
   ],
   "source": [
    "#örnek 2:\n",
    "#ex2\n",
    "\n",
    "students = [\"John\", \"Mark\", \"Venessa\", \"Mariam\"]\n",
    "students_no = [\"John\", \"Venessa\"]\n",
    "[item.lower() if item in students_no else item .upper() for item in students]\n"
   ]
  },
  {
   "cell_type": "code",
   "execution_count": 11,
   "id": "758cefe9-2b51-4f58-9b58-c5fddd7a7181",
   "metadata": {},
   "outputs": [
    {
     "data": {
      "text/plain": [
       "2"
      ]
     },
     "execution_count": 11,
     "metadata": {},
     "output_type": "execute_result"
    }
   ],
   "source": [
    "numbers = [1, 2, 3, 4, 5, 6, 7, 8, 9, 10]\n",
    "even_number=[item for item in numbers if item % 2==0]\n",
    "even_number[0]"
   ]
  },
  {
   "cell_type": "markdown",
   "id": "115ec98b-d1d1-47e3-99aa-3162889e4d72",
   "metadata": {},
   "source": [
    "Not:List comprehension genellikle bir listeyi doğrudan oluşturmak için kullanılır, bir yan etki (side effect) olarak listeye eleman eklemek için değil."
   ]
  },
  {
   "cell_type": "markdown",
   "id": "47d2e2a1-7eb3-4d58-a180-bb713317b4f3",
   "metadata": {},
   "source": [
    "-----------------------------------------------------"
   ]
  },
  {
   "cell_type": "markdown",
   "id": "5db513bb-6ccf-49e3-bd3a-4bf85d6aac6a",
   "metadata": {},
   "source": [
    "DICTIONARY COMP."
   ]
  },
  {
   "cell_type": "code",
   "execution_count": null,
   "id": "3862c04c-9e53-4991-83dd-ab546abedc4f",
   "metadata": {},
   "outputs": [],
   "source": [
    "#Bir sözlük, anahtar-değer (key-value) çiftlerinden oluşur.\n",
    "#Bir sözlük, anahtar-değer (key-value) çiftlerinden oluşur. \n",
    "#Bir sözlükte anahtarlar ve değerler üzerinde dolaşmak için .items() metodunu kullanırız.\n",
    "#Bu yöntem, her bir anahtar-değer çiftini birer tuple olarak döndürür.\n"
   ]
  },
  {
   "cell_type": "code",
   "execution_count": 12,
   "id": "66d946bc-dd19-4a1b-ab84-c2171af064a7",
   "metadata": {},
   "outputs": [
    {
     "data": {
      "text/plain": [
       "{'a': 1, 'b': 4, 'c': 9, 'd': 16}"
      ]
     },
     "execution_count": 12,
     "metadata": {},
     "output_type": "execute_result"
    }
   ],
   "source": [
    "dict = { 'a':1,\n",
    "         'b':2,\n",
    "         'c':3,\n",
    "         'd':4}\n",
    "\n",
    "{k: v**2 for (k,v) in dict.items()}"
   ]
  },
  {
   "cell_type": "code",
   "execution_count": 13,
   "id": "c1cc5067-e104-43e8-86f4-962c6008209c",
   "metadata": {},
   "outputs": [
    {
     "data": {
      "text/plain": [
       "{'A': 1, 'B': 2, 'C': 3, 'D': 4}"
      ]
     },
     "execution_count": 13,
     "metadata": {},
     "output_type": "execute_result"
    }
   ],
   "source": [
    "{k.upper():v for (k,v) in dict.items()}"
   ]
  },
  {
   "cell_type": "code",
   "execution_count": 18,
   "id": "399e73aa-b097-464b-bfad-c374d777daf3",
   "metadata": {},
   "outputs": [
    {
     "data": {
      "text/html": [
       "<div>\n",
       "<style scoped>\n",
       "    .dataframe tbody tr th:only-of-type {\n",
       "        vertical-align: middle;\n",
       "    }\n",
       "\n",
       "    .dataframe tbody tr th {\n",
       "        vertical-align: top;\n",
       "    }\n",
       "\n",
       "    .dataframe thead th {\n",
       "        text-align: right;\n",
       "    }\n",
       "</style>\n",
       "<table border=\"1\" class=\"dataframe\">\n",
       "  <thead>\n",
       "    <tr style=\"text-align: right;\">\n",
       "      <th></th>\n",
       "      <th>total</th>\n",
       "      <th>speeding</th>\n",
       "      <th>alcohol</th>\n",
       "      <th>not_distracted</th>\n",
       "      <th>no_previous</th>\n",
       "      <th>ins_premium</th>\n",
       "      <th>ins_losses</th>\n",
       "    </tr>\n",
       "  </thead>\n",
       "  <tbody>\n",
       "    <tr>\n",
       "      <th>0</th>\n",
       "      <td>18.8</td>\n",
       "      <td>7.332</td>\n",
       "      <td>5.640</td>\n",
       "      <td>18.048</td>\n",
       "      <td>15.040</td>\n",
       "      <td>784.55</td>\n",
       "      <td>145.08</td>\n",
       "    </tr>\n",
       "    <tr>\n",
       "      <th>1</th>\n",
       "      <td>18.1</td>\n",
       "      <td>7.421</td>\n",
       "      <td>4.525</td>\n",
       "      <td>16.290</td>\n",
       "      <td>17.014</td>\n",
       "      <td>1053.48</td>\n",
       "      <td>133.93</td>\n",
       "    </tr>\n",
       "    <tr>\n",
       "      <th>2</th>\n",
       "      <td>18.6</td>\n",
       "      <td>6.510</td>\n",
       "      <td>5.208</td>\n",
       "      <td>15.624</td>\n",
       "      <td>17.856</td>\n",
       "      <td>899.47</td>\n",
       "      <td>110.35</td>\n",
       "    </tr>\n",
       "    <tr>\n",
       "      <th>3</th>\n",
       "      <td>22.4</td>\n",
       "      <td>4.032</td>\n",
       "      <td>5.824</td>\n",
       "      <td>21.056</td>\n",
       "      <td>21.280</td>\n",
       "      <td>827.34</td>\n",
       "      <td>142.39</td>\n",
       "    </tr>\n",
       "    <tr>\n",
       "      <th>4</th>\n",
       "      <td>12.0</td>\n",
       "      <td>4.200</td>\n",
       "      <td>3.360</td>\n",
       "      <td>10.920</td>\n",
       "      <td>10.680</td>\n",
       "      <td>878.41</td>\n",
       "      <td>165.63</td>\n",
       "    </tr>\n",
       "  </tbody>\n",
       "</table>\n",
       "</div>"
      ],
      "text/plain": [
       "   total  speeding  alcohol  not_distracted  no_previous  ins_premium  \\\n",
       "0   18.8     7.332    5.640          18.048       15.040       784.55   \n",
       "1   18.1     7.421    4.525          16.290       17.014      1053.48   \n",
       "2   18.6     6.510    5.208          15.624       17.856       899.47   \n",
       "3   22.4     4.032    5.824          21.056       21.280       827.34   \n",
       "4   12.0     4.200    3.360          10.920       10.680       878.41   \n",
       "\n",
       "   ins_losses  \n",
       "0      145.08  \n",
       "1      133.93  \n",
       "2      110.35  \n",
       "3      142.39  \n",
       "4      165.63  "
      ]
     },
     "execution_count": 18,
     "metadata": {},
     "output_type": "execute_result"
    }
   ],
   "source": [
    "#example\n",
    "import seaborn as sns\n",
    "df = sns.load_dataset(\"car_crashes\")\n",
    "df.columns\n",
    "\n",
    "#önce sayısal değerleri bir listeye seçelim(tr)\n",
    "num_col =[item for item  in df.columns if df[item].dtype !=\"O\"]\n",
    "\n",
    "#gezerken sayısal değerleri seçmek için dtype object olmayanlar deriz(tr)\n",
    "agg_list=[\"mean\",\"max\",\"min\",\"sum\"]\n",
    "new_dict ={item : agg_list for item in num_col }\n",
    "\n",
    "df[num_col].head()"
   ]
  },
  {
   "cell_type": "code",
   "execution_count": 19,
   "id": "1644479a-14cf-4c87-aa4b-f2257f01b7ae",
   "metadata": {},
   "outputs": [
    {
     "data": {
      "text/html": [
       "<div>\n",
       "<style scoped>\n",
       "    .dataframe tbody tr th:only-of-type {\n",
       "        vertical-align: middle;\n",
       "    }\n",
       "\n",
       "    .dataframe tbody tr th {\n",
       "        vertical-align: top;\n",
       "    }\n",
       "\n",
       "    .dataframe thead th {\n",
       "        text-align: right;\n",
       "    }\n",
       "</style>\n",
       "<table border=\"1\" class=\"dataframe\">\n",
       "  <thead>\n",
       "    <tr style=\"text-align: right;\">\n",
       "      <th></th>\n",
       "      <th>total</th>\n",
       "      <th>speeding</th>\n",
       "      <th>alcohol</th>\n",
       "      <th>not_distracted</th>\n",
       "      <th>no_previous</th>\n",
       "      <th>ins_premium</th>\n",
       "      <th>ins_losses</th>\n",
       "    </tr>\n",
       "  </thead>\n",
       "  <tbody>\n",
       "    <tr>\n",
       "      <th>mean</th>\n",
       "      <td>15.790196</td>\n",
       "      <td>4.998196</td>\n",
       "      <td>4.886784</td>\n",
       "      <td>13.573176</td>\n",
       "      <td>14.004882</td>\n",
       "      <td>886.957647</td>\n",
       "      <td>134.493137</td>\n",
       "    </tr>\n",
       "    <tr>\n",
       "      <th>max</th>\n",
       "      <td>23.900000</td>\n",
       "      <td>9.450000</td>\n",
       "      <td>10.038000</td>\n",
       "      <td>23.661000</td>\n",
       "      <td>21.280000</td>\n",
       "      <td>1301.520000</td>\n",
       "      <td>194.780000</td>\n",
       "    </tr>\n",
       "    <tr>\n",
       "      <th>min</th>\n",
       "      <td>5.900000</td>\n",
       "      <td>1.792000</td>\n",
       "      <td>1.593000</td>\n",
       "      <td>1.760000</td>\n",
       "      <td>5.900000</td>\n",
       "      <td>641.960000</td>\n",
       "      <td>82.750000</td>\n",
       "    </tr>\n",
       "    <tr>\n",
       "      <th>sum</th>\n",
       "      <td>805.300000</td>\n",
       "      <td>254.908000</td>\n",
       "      <td>249.226000</td>\n",
       "      <td>692.232000</td>\n",
       "      <td>714.249000</td>\n",
       "      <td>45234.840000</td>\n",
       "      <td>6859.150000</td>\n",
       "    </tr>\n",
       "  </tbody>\n",
       "</table>\n",
       "</div>"
      ],
      "text/plain": [
       "           total    speeding     alcohol  not_distracted  no_previous  \\\n",
       "mean   15.790196    4.998196    4.886784       13.573176    14.004882   \n",
       "max    23.900000    9.450000   10.038000       23.661000    21.280000   \n",
       "min     5.900000    1.792000    1.593000        1.760000     5.900000   \n",
       "sum   805.300000  254.908000  249.226000      692.232000   714.249000   \n",
       "\n",
       "       ins_premium   ins_losses  \n",
       "mean    886.957647   134.493137  \n",
       "max    1301.520000   194.780000  \n",
       "min     641.960000    82.750000  \n",
       "sum   45234.840000  6859.150000  "
      ]
     },
     "execution_count": 19,
     "metadata": {},
     "output_type": "execute_result"
    }
   ],
   "source": [
    "df[num_col].agg(new_dict)"
   ]
  }
 ],
 "metadata": {
  "kernelspec": {
   "display_name": "Python 3 (ipykernel)",
   "language": "python",
   "name": "python3"
  },
  "language_info": {
   "codemirror_mode": {
    "name": "ipython",
    "version": 3
   },
   "file_extension": ".py",
   "mimetype": "text/x-python",
   "name": "python",
   "nbconvert_exporter": "python",
   "pygments_lexer": "ipython3",
   "version": "3.11.7"
  }
 },
 "nbformat": 4,
 "nbformat_minor": 5
}
