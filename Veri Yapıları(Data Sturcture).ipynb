{
 "cells": [
  {
   "cell_type": "markdown",
   "id": "43f8745a-b7e0-45ae-a231-504f4d6590b0",
   "metadata": {},
   "source": [
    "print(\"hello world\")"
   ]
  },
  {
   "cell_type": "code",
   "execution_count": 2,
   "id": "9f4fd054-0adc-45b8-b2e6-a592cd533c13",
   "metadata": {},
   "outputs": [
    {
     "name": "stdout",
     "output_type": "stream",
     "text": [
      "Ankara Üniversitesi Python Eğitimi\n"
     ]
    }
   ],
   "source": [
    "print(\"Ankara\", \"Üniversitesi\", \"Python\", \"Eğitimi\")"
   ]
  },
  {
   "cell_type": "code",
   "execution_count": 3,
   "id": "0c6a4392-adc9-40fe-870f-b5e7271df21b",
   "metadata": {},
   "outputs": [
    {
     "name": "stdout",
     "output_type": "stream",
     "text": [
      "<class 'int'>\n"
     ]
    }
   ],
   "source": [
    "num_1 =10\n",
    "print(type(num_1))"
   ]
  },
  {
   "cell_type": "code",
   "execution_count": 4,
   "id": "03d7dbf7-377e-49dc-b0d1-98e304ee060b",
   "metadata": {},
   "outputs": [
    {
     "data": {
      "text/plain": [
       "5"
      ]
     },
     "execution_count": 4,
     "metadata": {},
     "output_type": "execute_result"
    }
   ],
   "source": [
    "name = 'fatma'\n",
    "len(name)"
   ]
  },
  {
   "cell_type": "markdown",
   "id": "d034b586-ef1c-490d-9dbe-e99aa18b78df",
   "metadata": {},
   "source": [
    "In Python, case sensitivity matters. For example, number and NUMBER are different from each other."
   ]
  },
  {
   "cell_type": "code",
   "execution_count": 5,
   "id": "93a6f9cd-c814-4854-8ecb-f2f7bd29613b",
   "metadata": {},
   "outputs": [
    {
     "name": "stdout",
     "output_type": "stream",
     "text": [
      "10\n",
      "11\n"
     ]
    }
   ],
   "source": [
    "number=10\n",
    "NUMBER=11\n",
    "print(number)\n",
    "print(NUMBER)"
   ]
  },
  {
   "cell_type": "markdown",
   "id": "50f2dc04-bb17-4fcd-a2ca-f5c5d45269e1",
   "metadata": {},
   "source": [
    "FUNCTION"
   ]
  },
  {
   "cell_type": "code",
   "execution_count": 1,
   "id": "2798f304-0854-4dbc-b233-7531d0356b66",
   "metadata": {},
   "outputs": [
    {
     "name": "stdout",
     "output_type": "stream",
     "text": [
      "6\n"
     ]
    }
   ],
   "source": [
    "def summ1(arg1, arg2):\n",
    "    print(arg1 + arg2)\n",
    "\n",
    "summ1(2, 4)"
   ]
  },
  {
   "cell_type": "code",
   "execution_count": 4,
   "id": "189a20c3-bbd2-4097-9c2b-abaa82402320",
   "metadata": {},
   "outputs": [
    {
     "data": {
      "text/plain": [
       "314.0"
      ]
     },
     "execution_count": 4,
     "metadata": {},
     "output_type": "execute_result"
    }
   ],
   "source": [
    "# def = definition\n",
    "def calculateCircleArea(r):\n",
    "    pi=3.14\n",
    "    area=pi*(r**2)\n",
    "    return area\n",
    "calculateCircleArea(10)    "
   ]
  },
  {
   "cell_type": "markdown",
   "id": "d4c90008-0c7c-4591-a74b-f6dfe3ed03a4",
   "metadata": {},
   "source": [
    "###### DOCSTRİNG #######"
   ]
  },
  {
   "cell_type": "code",
   "execution_count": 5,
   "id": "24be2476-81c0-4e30-a8b3-42fac73f89ba",
   "metadata": {},
   "outputs": [
    {
     "name": "stdout",
     "output_type": "stream",
     "text": [
      "6\n"
     ]
    }
   ],
   "source": [
    "def summ2(arg1, arg2):\n",
    "    \"\"\"\n",
    "    sum of two number\n",
    "    :param arg1: int ,float\n",
    "    :param arg2: int,float\n",
    "    :return:\n",
    "    int,float\n",
    "    \"\"\"\n",
    "    print(arg1 + arg2)\n",
    "\n",
    "summ2(2, 4)"
   ]
  },
  {
   "cell_type": "markdown",
   "id": "9c07a860-ae4d-452e-81a3-b596a5f5b21b",
   "metadata": {},
   "source": [
    "A function that will store the entered values in a list"
   ]
  },
  {
   "cell_type": "code",
   "execution_count": 10,
   "id": "93ea8ad9-aedc-46e7-aacb-28696f19d8f6",
   "metadata": {},
   "outputs": [
    {
     "name": "stdout",
     "output_type": "stream",
     "text": [
      "[8]\n",
      "[8]\n"
     ]
    }
   ],
   "source": [
    "listStore = []\n",
    "\n",
    "def listAdd(arg):\n",
    "    listStore.append(arg)\n",
    "    print(listStore)\n",
    "\n",
    "listAdd(8)\n",
    "print(listStore)"
   ]
  },
  {
   "cell_type": "markdown",
   "id": "0563026f-4d30-4f0b-8fd5-a4e7155e6720",
   "metadata": {},
   "source": [
    "Predefined function"
   ]
  },
  {
   "cell_type": "code",
   "execution_count": 11,
   "id": "5b16bf1a-8e97-41d3-8e53-0e2b40256db3",
   "metadata": {},
   "outputs": [
    {
     "name": "stdout",
     "output_type": "stream",
     "text": [
      "1.0\n"
     ]
    }
   ],
   "source": [
    "def divide(a, b = 1):\n",
    "    print(a / b)\n",
    "\n",
    "divide(1)\n"
   ]
  },
  {
   "cell_type": "markdown",
   "id": "a697de44-2496-4f03-9334-e4617282313c",
   "metadata": {},
   "source": [
    "#Fonsiyon içersinde fonksiyon çağırma:"
   ]
  },
  {
   "cell_type": "code",
   "execution_count": null,
   "id": "a56c3fd6-1bc1-45e1-828d-721a509ea3ad",
   "metadata": {},
   "outputs": [],
   "source": [
    "def calculate(varm, moisture, charge):\n",
    "    return int((varm + moisture)/charge)\n",
    "\n",
    "calculate(98,34,86)*10\n"
   ]
  },
  {
   "cell_type": "markdown",
   "id": "5490910f-542c-4e15-88ee-25e99aa2452e",
   "metadata": {},
   "source": [
    "A comprehensive function example:"
   ]
  },
  {
   "cell_type": "code",
   "execution_count": 12,
   "id": "308d5eb6-fbc3-492d-bbea-86e81f67875c",
   "metadata": {},
   "outputs": [
    {
     "name": "stdout",
     "output_type": "stream",
     "text": [
      "144.00000000000003\n"
     ]
    }
   ],
   "source": [
    "def calculate(varm, moisture, charge):\n",
    "    return int((varm + moisture)/charge)\n",
    "\n",
    "calculate(98,34,86)*10\n",
    "\n",
    "def standarization(a, p):\n",
    "    return  a * 10 / 100 * p * p\n",
    "\n",
    "standarization(45,1)\n",
    "\n",
    "\n",
    "def all_calculation(varm,moisture,charge,p):\n",
    "    a=calculate(varm,moisture,charge)\n",
    "    b=standarization(a,p)\n",
    "    print(b*10)\n",
    "\n",
    "all_calculation(50,36,84,12)"
   ]
  },
  {
   "cell_type": "markdown",
   "id": "f8217a69-fddb-4596-8c43-0e35151190bf",
   "metadata": {},
   "source": [
    "Lambda Func:"
   ]
  },
  {
   "cell_type": "code",
   "execution_count": 16,
   "id": "a387e70e-cf91-43c1-845c-9a858f6bf80f",
   "metadata": {},
   "outputs": [
    {
     "data": {
      "text/plain": [
       "15"
      ]
     },
     "execution_count": 16,
     "metadata": {},
     "output_type": "execute_result"
    }
   ],
   "source": [
    "#The simplest example \n",
    "newSum = lambda a,b : a+b\n",
    "newSum(7,8)"
   ]
  },
  {
   "cell_type": "code",
   "execution_count": 26,
   "id": "c1eb2dd8-6bf7-45ea-ac45-7dd8fa475e85",
   "metadata": {},
   "outputs": [
    {
     "data": {
      "text/plain": [
       "[1200.0, 2400.0, 3600.0, 4800.0, 6000.0]"
      ]
     },
     "execution_count": 26,
     "metadata": {},
     "output_type": "execute_result"
    }
   ],
   "source": [
    "#If we use map, first let's call a list function to ensure the output is in list format.\n",
    "salaries = [1000,2000,3000,4000,5000]\n",
    "\n",
    "def nem_salary (x):\n",
    "    return x*20/100+x\n",
    "    \n",
    "list(map(nem_salary, salaris))\n"
   ]
  },
  {
   "cell_type": "code",
   "execution_count": 30,
   "id": "e6ce15cd-2431-4e51-b5a7-76b8da370bd6",
   "metadata": {},
   "outputs": [
    {
     "name": "stdout",
     "output_type": "stream",
     "text": [
      "[11 12 13 14 15]\n"
     ]
    }
   ],
   "source": [
    "import numpy as np\n",
    "\n",
    "\n",
    "data = np.array([1, 2, 3, 4, 5])\n",
    "\n",
    "# Transition all data plus 10\n",
    "transformed_data = np.array(list(map(lambda x: x + 10, data)))\n",
    "\n",
    "print(transformed_data)\n"
   ]
  },
  {
   "cell_type": "code",
   "execution_count": 27,
   "id": "ad757990-f1af-4bcf-b2f4-6db48a46013c",
   "metadata": {},
   "outputs": [
    {
     "name": "stdout",
     "output_type": "stream",
     "text": [
      "['APPLE', 'BANANA', 'CHERRY']\n"
     ]
    }
   ],
   "source": [
    "words = [\"apple\", \"banana\", \"cherry\"]\n",
    "\n",
    "def to_uppercase(word):\n",
    "    return word.upper()\n",
    "\n",
    "\n",
    "uppercase_words = list(map(to_uppercase, words))\n",
    "\n",
    "print(uppercase_words)"
   ]
  },
  {
   "cell_type": "code",
   "execution_count": null,
   "id": "524e7329-0217-4e5c-bd92-56a555a89b00",
   "metadata": {},
   "outputs": [],
   "source": [
    "prices = [100, 200, 300, 400]\n",
    "#Converting prices to dollars per unit (for example, 1 unit = 0.5 dollars).\n",
    "# Fiyatları birim cinsinden dolara çevirme (örneğin, 1 birim = 0.5 dolar)\n",
    "dollar_prices = list(map(lambda x: x * 0.5, prices))\n"
   ]
  },
  {
   "cell_type": "code",
   "execution_count": 25,
   "id": "0c9508ed-d675-4a4e-8713-015786e1b360",
   "metadata": {},
   "outputs": [
    {
     "data": {
      "text/plain": [
       "[1200.0, 2400.0, 3600.0, 4800.0, 6000.0]"
      ]
     },
     "execution_count": 25,
     "metadata": {},
     "output_type": "execute_result"
    }
   ],
   "source": [
    "#let's so this with lambda func.\n",
    "salaries = [1000,2000,3000,4000,5000]\n",
    "list(map(lambda x: x*20 /100 + x ,salaries))"
   ]
  },
  {
   "cell_type": "code",
   "execution_count": 28,
   "id": "ffc8a70a-e55e-4d76-a0ed-28d3afe18ac1",
   "metadata": {},
   "outputs": [
    {
     "data": {
      "text/plain": [
       "[2, 4, 6, 8, 10]"
      ]
     },
     "execution_count": 28,
     "metadata": {},
     "output_type": "execute_result"
    }
   ],
   "source": [
    "#Filter: \n",
    "list_Store = [1,2,3,4,5,6,7,8,9,10]\n",
    "list(filter(lambda  x : x %  2 == 0,list_Store))"
   ]
  },
  {
   "cell_type": "code",
   "execution_count": 29,
   "id": "ccf91488-a8fc-4f5a-bba8-da218a66e832",
   "metadata": {},
   "outputs": [
    {
     "data": {
      "text/plain": [
       "10"
      ]
     },
     "execution_count": 29,
     "metadata": {},
     "output_type": "execute_result"
    }
   ],
   "source": [
    "#Reduce\n",
    "from functools import  reduce\n",
    "list_Store =[1,2,3,4]\n",
    "reduce(lambda  a, b: a + b, list_Store)"
   ]
  },
  {
   "cell_type": "markdown",
   "id": "559df09d-997c-4384-a2b1-b79f9396305e",
   "metadata": {},
   "source": [
    "Loops"
   ]
  },
  {
   "cell_type": "code",
   "execution_count": 31,
   "id": "05bfc079-07e7-49a9-8306-209a98e5e761",
   "metadata": {},
   "outputs": [
    {
     "name": "stdout",
     "output_type": "stream",
     "text": [
      "JOHN\n",
      "MARK\n",
      "VANESSA\n",
      "MARIAM\n"
     ]
    }
   ],
   "source": [
    "students = [\"John\",\"Mark\",\"Vanessa\",\"Mariam\"]\n",
    "for item in students:\n",
    "    print(item.upper())"
   ]
  },
  {
   "cell_type": "code",
   "execution_count": 36,
   "id": "b5b4f385-e18c-426f-942c-5561786585b2",
   "metadata": {},
   "outputs": [
    {
     "name": "stdout",
     "output_type": "stream",
     "text": [
      "1620\n",
      "1890\n",
      "2025\n",
      "2160\n",
      "[1500, 1750, 1875, 2000]\n"
     ]
    }
   ],
   "source": [
    "salary = [1200,1400,1500,1600]\n",
    "new_salaries = []\n",
    "\n",
    "def new_salary (salary,rate):\n",
    "    return int(salary*rate/100+salary)\n",
    "\n",
    "for item in salary :\n",
    "    if item>= 1000:\n",
    "        print(new_salary(item,35))\n",
    "    else:\n",
    "        print(new_salary(item,20))\n",
    "\n",
    "for item1 in salary:\n",
    "    new_salaries.append(new_salary(item1,25))\n",
    "\n",
    "print(new_salaries)"
   ]
  },
  {
   "cell_type": "code",
   "execution_count": 37,
   "id": "4fd7ab0a-de2e-4118-be1d-c4f4ff381c1a",
   "metadata": {},
   "outputs": [
    {
     "name": "stdout",
     "output_type": "stream",
     "text": [
      "number is not 10\n"
     ]
    }
   ],
   "source": [
    "#IF,ELIF,ELSE\n",
    "def number_check(number):\n",
    "    if number == 10:\n",
    "        print(\"number is 10\")\n",
    "    else:\n",
    "        print(\"number is not 10\")\n",
    "\n",
    "number_check(18)"
   ]
  },
  {
   "cell_type": "code",
   "execution_count": 38,
   "id": "7b099716-bd5f-46ce-a04e-848f35e479f8",
   "metadata": {},
   "outputs": [
    {
     "name": "stdout",
     "output_type": "stream",
     "text": [
      "greater than 10\n"
     ]
    }
   ],
   "source": [
    "def number_check_2(number):\n",
    "    if number >10 :\n",
    "        print(\"greater than 10\")\n",
    "    elif number <10:\n",
    "        print(\"less than 10\")\n",
    "\n",
    "    else:\n",
    "        print(\"equal to 10\")\n",
    "\n",
    "number_check_2(54)  "
   ]
  },
  {
   "cell_type": "markdown",
   "id": "ea5db1f3-6f55-42ae-a20e-cd373c45983d",
   "metadata": {},
   "source": [
    "Enumarate"
   ]
  },
  {
   "cell_type": "code",
   "execution_count": 42,
   "id": "f2604b54-2ae6-4012-a313-2a81a7182063",
   "metadata": {},
   "outputs": [
    {
     "name": "stdout",
     "output_type": "stream",
     "text": [
      "['Mark', 'Mariana']\n",
      "['John', 'Venessa']\n"
     ]
    }
   ],
   "source": [
    "students = [\"John\", \"Mark\", \"Venessa\", \"Mariana\"]\n",
    "\n",
    "A = []\n",
    "B = []\n",
    "\n",
    "for index,item in enumerate(students):\n",
    "    if index % 2 ==0:\n",
    "        A.append(item)\n",
    "    else:\n",
    "        B.append(item)\n",
    "\n",
    "print(A)\n",
    "print(B)\n",
    "\n"
   ]
  },
  {
   "cell_type": "code",
   "execution_count": 41,
   "id": "c946ed79-bd81-4ce3-9b4f-4b7b9814de7e",
   "metadata": {},
   "outputs": [
    {
     "name": "stdout",
     "output_type": "stream",
     "text": [
      "Row 1: Name = Alice, Age = 24\n",
      "Row 2: Name = Bob, Age = 27\n",
      "Row 3: Name = Charlie, Age = 22\n"
     ]
    }
   ],
   "source": [
    "#Another example\n",
    "import pandas as pd\n",
    "\n",
    "# Örnek veri çerçevesi\n",
    "data = {'name': ['Alice', 'Bob', 'Charlie'],\n",
    "        'age': [24, 27, 22]}\n",
    "df = pd.DataFrame(data)\n",
    "\n",
    "# Satırların indeksleri ile birlikte işlenmesi\n",
    "for index, row in enumerate(df.itertuples(), start=1):\n",
    "    print(f\"Row {index}: Name = {row.name}, Age = {row.age}\")\n"
   ]
  },
  {
   "cell_type": "markdown",
   "id": "b051d75c-448d-4e88-b649-80554f1c248b",
   "metadata": {},
   "source": [
    "Data Structures(List,Dictionary,Tuple,Set)\n",
    "#Not: Liste ,tuple,set ve dictionary veri yapıları aynı zamanda \"Python Collections\" (Arrays) olarak geçmektedir.\r\n"
   ]
  },
  {
   "cell_type": "code",
   "execution_count": 1,
   "id": "6596d1f8-367c-4031-a6b7-c7257aa1038e",
   "metadata": {},
   "outputs": [
    {
     "data": {
      "text/plain": [
       "list"
      ]
     },
     "execution_count": 1,
     "metadata": {},
     "output_type": "execute_result"
    }
   ],
   "source": [
    "#List\n",
    "X =[\"btc\",\"eth\",\"xrp\"]\n",
    "type(X)"
   ]
  },
  {
   "cell_type": "code",
   "execution_count": 3,
   "id": "5c24a8cc-22c0-4bd9-8711-dabae76530ea",
   "metadata": {},
   "outputs": [
    {
     "data": {
      "text/plain": [
       "dict"
      ]
     },
     "execution_count": 3,
     "metadata": {},
     "output_type": "execute_result"
    }
   ],
   "source": [
    "#Dictionary\n",
    "Y = {\"name\":\"fatma\",\n",
    "   \"Age\": 24\n",
    "  }\n",
    "type(Y)"
   ]
  },
  {
   "cell_type": "code",
   "execution_count": 4,
   "id": "128e74a3-8a22-4c96-8c7e-fe920938e4f0",
   "metadata": {},
   "outputs": [
    {
     "data": {
      "text/plain": [
       "tuple"
      ]
     },
     "execution_count": 4,
     "metadata": {},
     "output_type": "execute_result"
    }
   ],
   "source": [
    "X = (\"python\",\"ml\",\"ds\")\n",
    "type(X)"
   ]
  },
  {
   "cell_type": "code",
   "execution_count": 5,
   "id": "f7a85604-917e-46dc-94f5-d054b57eabf0",
   "metadata": {},
   "outputs": [
    {
     "data": {
      "text/plain": [
       "set"
      ]
     },
     "execution_count": 5,
     "metadata": {},
     "output_type": "execute_result"
    }
   ],
   "source": [
    "Z = {\"f\",\"a\",\"t\"}\n",
    "type(Z)"
   ]
  },
  {
   "cell_type": "code",
   "execution_count": null,
   "id": "f06dcf63-7c3e-4f95-8c22-1293b8b02099",
   "metadata": {},
   "outputs": [],
   "source": [
    "###DICTIONARY###\n",
    "##Değiştirilebilir,Kapsayıcı,Python 3.7 sonra sıralı hale geldi (Tr)\n"
   ]
  },
  {
   "cell_type": "code",
   "execution_count": 7,
   "id": "038691f1-39dd-4c2b-ac74-896ebdf8898a",
   "metadata": {},
   "outputs": [
    {
     "data": {
      "text/plain": [
       "['RMSE', 10]"
      ]
     },
     "execution_count": 7,
     "metadata": {},
     "output_type": "execute_result"
    }
   ],
   "source": [
    "#key-value\n",
    "dic = {\"REG\":[\"RMSE\",10],\n",
    "       \"LOG\": [\"MSE\",20]\n",
    "}\n",
    "dic[\"REG\"]"
   ]
  },
  {
   "cell_type": "code",
   "execution_count": 8,
   "id": "19be1d86-b85b-4f9a-9093-1b7da1705aee",
   "metadata": {},
   "outputs": [
    {
     "data": {
      "text/plain": [
       "'RMSE'"
      ]
     },
     "execution_count": 8,
     "metadata": {},
     "output_type": "execute_result"
    }
   ],
   "source": [
    "dic_2 = {\"REG\":[\"RMSE\",10],\n",
    "         \"LOG\":[\"MSE\",20]\n",
    "}\n",
    "dic_2[\"REG\"][0]"
   ]
  },
  {
   "cell_type": "code",
   "execution_count": 9,
   "id": "7a0ebfa3-86f7-43c4-8193-418f55ea2939",
   "metadata": {},
   "outputs": [
    {
     "data": {
      "text/plain": [
       "10"
      ]
     },
     "execution_count": 9,
     "metadata": {},
     "output_type": "execute_result"
    }
   ],
   "source": [
    "dic_3 = {\"REG\": 10,\n",
    "         \"LOG\": 20\n",
    "         }\n",
    "dic_3[\"REG\"]"
   ]
  },
  {
   "cell_type": "code",
   "execution_count": 13,
   "id": "41f9ae61-855d-4081-83f2-e736aeb56b61",
   "metadata": {},
   "outputs": [
    {
     "data": {
      "text/plain": [
       "['RMSE', 10]"
      ]
     },
     "execution_count": 13,
     "metadata": {},
     "output_type": "execute_result"
    }
   ],
   "source": [
    "#Key'e göre value erişme(tr)\n",
    "dic[\"REG\"]\n",
    "dic.get(\"REG\")"
   ]
  },
  {
   "cell_type": "code",
   "execution_count": 14,
   "id": "e98f2d5d-8856-4885-af64-cf8cea646b47",
   "metadata": {},
   "outputs": [
    {
     "data": {
      "text/plain": [
       "{'REG': ['regression'], 'LOG': ['MSE', 20]}"
      ]
     },
     "execution_count": 14,
     "metadata": {},
     "output_type": "execute_result"
    }
   ],
   "source": [
    "#Value Değiştirmek(tr)\n",
    "dic[\"REG\"] = [\"regression\"]\n",
    "dic\n"
   ]
  },
  {
   "cell_type": "code",
   "execution_count": 15,
   "id": "a17ce488-631d-48f2-ab50-7e744c56cd00",
   "metadata": {},
   "outputs": [
    {
     "data": {
      "text/plain": [
       "dict_keys(['REG', 'LOG'])"
      ]
     },
     "execution_count": 15,
     "metadata": {},
     "output_type": "execute_result"
    }
   ],
   "source": [
    "#Tüm Keylere erişmek(tr)\n",
    "dic.keys()"
   ]
  },
  {
   "cell_type": "code",
   "execution_count": null,
   "id": "e60c62bf-8c9d-4bf0-8bc9-62a75f47fc6f",
   "metadata": {},
   "outputs": [],
   "source": [
    "#Tüm value'lara erişmek(tr)\n",
    "dic.values()"
   ]
  },
  {
   "cell_type": "code",
   "execution_count": 16,
   "id": "e46f7d18-b379-45f7-b73f-bfe9a79067b3",
   "metadata": {},
   "outputs": [
    {
     "data": {
      "text/plain": [
       "dict_items([('REG', ['regression']), ('LOG', ['MSE', 20])])"
      ]
     },
     "execution_count": 16,
     "metadata": {},
     "output_type": "execute_result"
    }
   ],
   "source": [
    "#Tüm çiftleri tuple halinde listeye çevirme\n",
    "dic.items()"
   ]
  },
  {
   "cell_type": "code",
   "execution_count": 17,
   "id": "0bc033c2-5db6-43d3-84c8-80b2155722bb",
   "metadata": {},
   "outputs": [
    {
     "data": {
      "text/plain": [
       "{'REG': 11, 'LOG': ['MSE', 20]}"
      ]
     },
     "execution_count": 17,
     "metadata": {},
     "output_type": "execute_result"
    }
   ],
   "source": [
    "#Key value değerini güncellemek\n",
    "dic.update({\"REG\":11})\n",
    "dic"
   ]
  },
  {
   "cell_type": "code",
   "execution_count": 37,
   "id": "9721e7c5-ce16-40a1-8735-c6ec5d4d29af",
   "metadata": {},
   "outputs": [],
   "source": [
    "##LIST\n",
    "#Mutable, Ordered, Indexable, and Inclusive.(en)\n",
    "#Değiştirilebilir,Sıralıdır, Index İşlemleri Yapılabilir, Kapsayıcıdır\n",
    "\n",
    "notes =[1,2,3,4]\n",
    "names = [\"a\",\"hi\"]\n",
    "not_nam = [1,23,\"d\",True,[1,2,3]]\n",
    "\n",
    "not_nam[0]\n",
    "not_nam[4][1]\n",
    "not_nam[0] = 99\n"
   ]
  },
  {
   "cell_type": "code",
   "execution_count": null,
   "id": "e7776b56-6256-4710-862b-40873079eb80",
   "metadata": {},
   "outputs": [],
   "source": [
    "# listenin ikinci, üçüncü ve dördüncü elemanı\n",
    "hafta[1:4] # hafta[x,y]: x = dahil, y = dahil değil"
   ]
  },
  {
   "cell_type": "code",
   "execution_count": null,
   "id": "6fe2cfba-c61b-431f-bb3b-eca59ebd1c73",
   "metadata": {},
   "outputs": [],
   "source": [
    "# listenin ilk 4 elemanı\n",
    "hafta[:4] # hafta[x,y]: x = dahil, y = dahil değil"
   ]
  },
  {
   "cell_type": "code",
   "execution_count": 47,
   "id": "fea0fea2-b863-4512-9ca2-c6e8c352c1e0",
   "metadata": {},
   "outputs": [
    {
     "data": {
      "text/plain": [
       "[1, 3, 2, 6, 4, 4, 4]"
      ]
     },
     "execution_count": 47,
     "metadata": {},
     "output_type": "execute_result"
    }
   ],
   "source": [
    "number_list = [1,3,2,4,6,4,4,4]\n",
    "number_list.remove(4) # istenilen elemanı çıkarır\n",
    "number_list"
   ]
  },
  {
   "cell_type": "code",
   "execution_count": 48,
   "id": "ca03af20-063a-432a-99ef-4697b4b7cc3a",
   "metadata": {},
   "outputs": [
    {
     "data": {
      "text/plain": [
       "[5, 6, 4, 2, 3, 1]"
      ]
     },
     "execution_count": 48,
     "metadata": {},
     "output_type": "execute_result"
    }
   ],
   "source": [
    "number_list = [1,3,2,4,6,5]\n",
    "number_list.reverse() # listeyi ters çevirir\n",
    "number_list"
   ]
  },
  {
   "cell_type": "code",
   "execution_count": 49,
   "id": "4c656316-773c-4671-9065-f8052d727dc7",
   "metadata": {},
   "outputs": [],
   "source": [
    "sayı_listesi = [1,3,2,4,6,5]\n",
    "sayı_listesi.sort() # listeyi küçükten büyüğe sıralar"
   ]
  },
  {
   "cell_type": "code",
   "execution_count": 39,
   "id": "0649df7c-bbb9-4fb1-8d1f-ef49982b3a78",
   "metadata": {},
   "outputs": [
    {
     "data": {
      "text/plain": [
       "[1, 2, 3, 4, 32, 32]"
      ]
     },
     "execution_count": 39,
     "metadata": {},
     "output_type": "execute_result"
    }
   ],
   "source": [
    "dir(notes)\n",
    "len(notes)\n",
    "notes.append(32)\n",
    "notes\n"
   ]
  },
  {
   "cell_type": "code",
   "execution_count": 24,
   "id": "d20497c4-f955-4d38-8c78-fabc2b86bf9c",
   "metadata": {},
   "outputs": [
    {
     "data": {
      "text/plain": [
       "[1, 4, 32, 32]"
      ]
     },
     "execution_count": 24,
     "metadata": {},
     "output_type": "execute_result"
    }
   ],
   "source": [
    "# pop: indexe göre siler(tr)\n",
    "notes.pop(1)\n",
    "notes\n"
   ]
  },
  {
   "cell_type": "code",
   "execution_count": 43,
   "id": "62a70483-e319-4d75-82b1-062469a01bd6",
   "metadata": {},
   "outputs": [
    {
     "data": {
      "text/plain": [
       "{5}"
      ]
     },
     "execution_count": 43,
     "metadata": {},
     "output_type": "execute_result"
    }
   ],
   "source": [
    "##SET##\n",
    "# Değiştirilebilir , Sırasız+Eşsiz, Kapsayıcı\n",
    "#- Mutable, Unordered + Unique, and Inclusive.\n",
    "\n",
    "#Those that are in set1 but not in set2.\n",
    "set1 = set([1,3,5])\n",
    "set2 = set([1,2,3])\n",
    "set1.difference(set2)"
   ]
  },
  {
   "cell_type": "code",
   "execution_count": 44,
   "id": "872b6a2a-fecb-43e3-8cd9-31de3e72feb4",
   "metadata": {},
   "outputs": [
    {
     "data": {
      "text/plain": [
       "{2, 5}"
      ]
     },
     "execution_count": 44,
     "metadata": {},
     "output_type": "execute_result"
    }
   ],
   "source": [
    "#symmetric_difference(): İki kümede de birbirlerine göre olmayanlar\n",
    "set1.symmetric_difference(set2)\n",
    "set2.symmetric_difference(set1)"
   ]
  },
  {
   "cell_type": "code",
   "execution_count": 46,
   "id": "c6b9f4a7-02e6-4553-a273-03ff9782b077",
   "metadata": {},
   "outputs": [
    {
     "data": {
      "text/plain": [
       "False"
      ]
     },
     "execution_count": 46,
     "metadata": {},
     "output_type": "execute_result"
    }
   ],
   "source": [
    "#intersection(): İki kümenin kesişimi\n",
    "set1.intersection(set2)\n",
    "\n",
    "#union(): iki kümenin birleşimi\n",
    "set1.union(set2)\n",
    "\n",
    "# isdisjoint(): İki kümenin kesişimi boş mu?\n",
    "set1.isdisjoint(set2)\n",
    "\n",
    "#issuperset(): Bir küme diğer kümeyi kapsıyor mu?\n",
    "set2.issuperset(set1)\n",
    "set1.issuperset(set2)\n"
   ]
  },
  {
   "cell_type": "code",
   "execution_count": null,
   "id": "37f666ac-87f7-48ea-9054-aa4b3a5ce7a2",
   "metadata": {},
   "outputs": [],
   "source": [
    "##TUPLE##\n",
    "#Değiştirilemez,sıralıdır, kapsayıcıdır (birden farklı veri yapısını içermek demektir)(tr)\n",
    "#Immutable, Ordered, and Inclusive (means it can contain multiple data structures)\n",
    "\n",
    "tuple_veritipi = (1,2,3,3,14,5,6)\n",
    "tuple_veritipi[4:]\n"
   ]
  },
  {
   "cell_type": "code",
   "execution_count": 52,
   "id": "91e3a39d-2039-4a2f-8579-23c7e41cceaa",
   "metadata": {},
   "outputs": [
    {
     "data": {
      "text/plain": [
       "(14, 5, 6)"
      ]
     },
     "execution_count": 52,
     "metadata": {},
     "output_type": "execute_result"
    }
   ],
   "source": [
    "number = (1,2,3,3,14,5,6)\n",
    "number[4:] #include fourth index\n",
    "#number[0]=7 #This code line gives us an error because we need to convert it to a list"
   ]
  }
 ],
 "metadata": {
  "kernelspec": {
   "display_name": "Python 3 (ipykernel)",
   "language": "python",
   "name": "python3"
  },
  "language_info": {
   "codemirror_mode": {
    "name": "ipython",
    "version": 3
   },
   "file_extension": ".py",
   "mimetype": "text/x-python",
   "name": "python",
   "nbconvert_exporter": "python",
   "pygments_lexer": "ipython3",
   "version": "3.11.7"
  }
 },
 "nbformat": 4,
 "nbformat_minor": 5
}
